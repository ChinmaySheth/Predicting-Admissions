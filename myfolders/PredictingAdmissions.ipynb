{
 "cells": [
  {
   "cell_type": "markdown",
   "metadata": {},
   "source": [
    "## Introduction\n",
    "\n",
    "The purpose of this experiment is to determine whether a linear regression model can be fitted to explain the data in the Predicting Admissions Dataset which is available on Kaggle. The motivation for this experiment is mostly education in nature, as to apply the skills that I've developed in SAS and the scientific process."
   ]
  },
  {
   "cell_type": "code",
   "execution_count": 6,
   "metadata": {},
   "outputs": [
    {
     "data": {
      "text/html": [
       "<!DOCTYPE html PUBLIC \"-//W3C//DTD HTML 4.01//EN\"\n",
       "   \"http://www.w3.org/TR/html4/strict.dtd\">\n",
       "\n",
       "<html>\n",
       "<head>\n",
       "  <title></title>\n",
       "  <meta http-equiv=\"content-type\" content=\"text/html; charset=None\">\n",
       "  <style type=\"text/css\">\n",
       "td.linenos { background-color: #f0f0f0; padding-right: 10px; }\n",
       "span.lineno { background-color: #f0f0f0; padding: 0 5px 0 5px; }\n",
       "pre { line-height: 125%; }\n",
       "body .hll { background-color: #ffffcc }\n",
       "body  { background: #ffffff; }\n",
       "body .c { color: #0000FF } /* Comment */\n",
       "body .k { color: #ff0000; font-weight: bold } /* Keyword */\n",
       "body .n { color: #008000 } /* Name */\n",
       "body .ch { color: #0000FF } /* Comment.Hashbang */\n",
       "body .cm { color: #0000FF } /* Comment.Multiline */\n",
       "body .cp { color: #0000FF } /* Comment.Preproc */\n",
       "body .cpf { color: #0000FF } /* Comment.PreprocFile */\n",
       "body .c1 { color: #0000FF } /* Comment.Single */\n",
       "body .cs { color: #0000FF } /* Comment.Special */\n",
       "body .kc { color: #ff0000; font-weight: bold } /* Keyword.Constant */\n",
       "body .kd { color: #ff0000; font-weight: bold } /* Keyword.Declaration */\n",
       "body .kn { color: #ff0000; font-weight: bold } /* Keyword.Namespace */\n",
       "body .kp { color: #ff0000; font-weight: bold } /* Keyword.Pseudo */\n",
       "body .kr { color: #ff0000; font-weight: bold } /* Keyword.Reserved */\n",
       "body .kt { color: #ff0000; font-weight: bold } /* Keyword.Type */\n",
       "body .s { color: #111111 } /* Literal.String */\n",
       "body .na { color: #008000 } /* Name.Attribute */\n",
       "body .nb { color: #008000 } /* Name.Builtin */\n",
       "body .nc { color: #008000 } /* Name.Class */\n",
       "body .no { color: #008000 } /* Name.Constant */\n",
       "body .nd { color: #008000 } /* Name.Decorator */\n",
       "body .ni { color: #008000 } /* Name.Entity */\n",
       "body .ne { color: #008000 } /* Name.Exception */\n",
       "body .nf { color: #008000 } /* Name.Function */\n",
       "body .nl { color: #008000 } /* Name.Label */\n",
       "body .nn { color: #008000 } /* Name.Namespace */\n",
       "body .nx { color: #008000 } /* Name.Other */\n",
       "body .py { color: #008000 } /* Name.Property */\n",
       "body .nt { color: #008000 } /* Name.Tag */\n",
       "body .nv { color: #008000 } /* Name.Variable */\n",
       "body .sb { color: #111111 } /* Literal.String.Backtick */\n",
       "body .sc { color: #111111 } /* Literal.String.Char */\n",
       "body .sd { color: #111111 } /* Literal.String.Doc */\n",
       "body .s2 { color: #111111 } /* Literal.String.Double */\n",
       "body .se { color: #111111 } /* Literal.String.Escape */\n",
       "body .sh { color: #111111 } /* Literal.String.Heredoc */\n",
       "body .si { color: #111111 } /* Literal.String.Interpol */\n",
       "body .sx { color: #111111 } /* Literal.String.Other */\n",
       "body .sr { color: #111111 } /* Literal.String.Regex */\n",
       "body .s1 { color: #111111 } /* Literal.String.Single */\n",
       "body .ss { color: #111111 } /* Literal.String.Symbol */\n",
       "body .bp { color: #008000 } /* Name.Builtin.Pseudo */\n",
       "body .vc { color: #008000 } /* Name.Variable.Class */\n",
       "body .vg { color: #008000 } /* Name.Variable.Global */\n",
       "body .vi { color: #008000 } /* Name.Variable.Instance */\n",
       "\n",
       "  </style>\n",
       "</head>\n",
       "<body>\n",
       "<h2></h2>\n",
       "\n",
       "<div class=\"highlight\"><pre><span></span><span class=\"s\">265  ods listing close;ods html5 (id=saspy_internal) file=stdout options(bitmap_mode=&#39;inline&#39;) device=svg style=HTMLBlue; ods</span><br><span class=\"s\">265! graphics on / outputfmt=png;</span><br><span class=\"cm\">NOTE: Writing HTML5(SASPY_INTERNAL) Body file: STDOUT</span><br><span class=\"s\">266  </span><br><span class=\"s\">267  PROC IMPORT DATAFILE=&#39;Predicting_Admissions/Admission_Predict.csv&#39;</span><br><span class=\"s\">268  out=admpred</span><br><span class=\"s\">269  dbms=csv</span><br><span class=\"s\">270  replace</span><br><span class=\"s\">271  ;</span><br><span class=\"s\">272  run;</span><br><span class=\"s\">273   /**********************************************************************</span><br><span class=\"s\">274   *   PRODUCT:   SAS</span><br><span class=\"s\">275   *   VERSION:   9.4</span><br><span class=\"s\">276   *   CREATOR:   External File Interface</span><br><span class=\"s\">277   *   DATE:      21DEC19</span><br><span class=\"s\">278   *   DESC:      Generated SAS Datastep Code</span><br><span class=\"s\">279   *   TEMPLATE SOURCE:  (None Specified.)</span><br><span class=\"s\">280   ***********************************************************************/</span><br><span class=\"s\">281      data WORK.ADMPRED    ;</span><br><span class=\"s\">282      %let _EFIERR_ = 0; /* set the ERROR detection macro variable */</span><br><span class=\"s\">283      infile &#39;Predicting_Admissions/Admission_Predict.csv&#39; delimiter = &#39;,&#39; MISSOVER DSD lrecl=32767 firstobs=2 ;</span><br><span class=\"s\">284         informat &quot;Serial No.&quot;N best32. ;</span><br><span class=\"s\">285         informat &quot;GRE Score&quot;N best32. ;</span><br><span class=\"s\">286         informat &quot;TOEFL Score&quot;N best32. ;</span><br><span class=\"s\">287         informat &quot;University Rating&quot;N best32. ;</span><br><span class=\"s\">288         informat SOP best32. ;</span><br><span class=\"s\">289         informat LOR best32. ;</span><br><span class=\"s\">290         informat CGPA best32. ;</span><br><span class=\"s\">291         informat Research best32. ;</span><br><span class=\"s\">292         informat &quot;Chance of Admit&quot;N best32. ;</span><br><span class=\"s\">293         format &quot;Serial No.&quot;N best12. ;</span><br><span class=\"s\">294         format &quot;GRE Score&quot;N best12. ;</span><br><span class=\"s\">295         format &quot;TOEFL Score&quot;N best12. ;</span><br><span class=\"s\">296         format &quot;University Rating&quot;N best12. ;</span><br><span class=\"s\">297         format SOP best12. ;</span><br><span class=\"s\">298         format LOR best12. ;</span><br><span class=\"s\">299         format CGPA best12. ;</span><br><span class=\"s\">300         format Research best12. ;</span><br><span class=\"s\">301         format &quot;Chance of Admit&quot;N best12. ;</span><br><span class=\"s\">302      input</span><br><span class=\"s\">303                  &quot;Serial No.&quot;N</span><br><span class=\"s\">304                  &quot;GRE Score&quot;N</span><br><span class=\"s\">305                  &quot;TOEFL Score&quot;N</span><br><span class=\"s\">306                  &quot;University Rating&quot;N</span><br><span class=\"s\">307                  SOP</span><br><span class=\"s\">308                  LOR</span><br><span class=\"s\">309                  CGPA</span><br><span class=\"s\">310                  Research</span><br><span class=\"s\">311                  &quot;Chance of Admit&quot;N</span><br><span class=\"s\">312      ;</span><br><span class=\"s\">313      if _ERROR_ then call symputx(&#39;_EFIERR_&#39;,1);  /* set ERROR detection macro variable */</span><br><span class=\"s\">314      run;</span><br><span class=\"cm\">NOTE: The infile &#39;Predicting_Admissions/Admission_Predict.csv&#39; is:</span><br><span class=\"cm\">      Filename=/folders/myfolders/Predicting_Admissions/Admission_Predict.csv,</span><br><span class=\"cm\">      Owner Name=sasdemo,Group Name=sas,</span><br><span class=\"cm\">      Access Permission=-rw-rw-r--,</span><br><span class=\"cm\">      Last Modified=07Nov2019:15:32:26,</span><br><span class=\"cm\">      File Size (bytes)=12903</span><br><br><span class=\"cm\">NOTE: 400 records were read from the infile &#39;Predicting_Admissions/Admission_Predict.csv&#39;.</span><br><span class=\"cm\">      The minimum record length was 25.</span><br><span class=\"cm\">      The maximum record length was 33.</span><br><span class=\"cm\">NOTE: The data set WORK.ADMPRED has 400 observations and 9 variables.</span><br><span class=\"cm\">NOTE: DATA statement used (Total process time):</span><br><span class=\"cm\">      real time           0.00 seconds</span><br><span class=\"cm\">      cpu time            0.01 seconds</span><br><span class=\"cm\">      </span><br><span class=\"s\">400 rows created in WORK.ADMPRED from Predicting_Admissions/Admission_Predict.csv.</span><br><span class=\"s\">  </span><br><span class=\"s\">  </span><br><span class=\"s\">  </span><br><span class=\"cm\">NOTE: WORK.ADMPRED data set was successfully created.</span><br><span class=\"cm\">NOTE: The data set WORK.ADMPRED has 400 observations and 9 variables.</span><br><span class=\"cm\">NOTE: PROCEDURE IMPORT used (Total process time):</span><br><span class=\"cm\">      real time           0.04 seconds</span><br><span class=\"cm\">      cpu time            0.04 seconds</span><br><span class=\"cm\">      </span><br><span class=\"s\">315  </span><br><span class=\"s\">316  ods html5 (id=saspy_internal) close;ods listing;</span><br><br><span class=\"s\">317  </span><br></pre></div>\n",
       "</body>\n",
       "</html>\n"
      ],
      "text/plain": [
       "<IPython.core.display.HTML object>"
      ]
     },
     "execution_count": 6,
     "metadata": {},
     "output_type": "execute_result"
    }
   ],
   "source": [
    "PROC IMPORT DATAFILE='Predicting_Admissions/Admission_Predict.csv'\n",
    "out=admpred\n",
    "dbms=csv\n",
    "replace\n",
    ";\n",
    "run;"
   ]
  },
  {
   "cell_type": "markdown",
   "metadata": {},
   "source": [
    "## Exploratory Data Analysis \n",
    "\n",
    "There are 400 records in the dataset with nine variables, with none of the data missing. The nine variables are as follows:\n",
    "\n",
    "1) Serial No. <br />\n",
    "2) GRE Score <br />\n",
    "3) TOEFL Score <br />\n",
    "4) University Rating <br />\n",
    "5) Statement of Purpose Rating <br />\n",
    "6) Letter of Recommendation Rating <br />\n",
    "7) Cumulative Grade Point Average <br />\n",
    "8) Research <br />\n",
    "9) Chance of Admittance <br />\n",
    "\n",
    "There is one categorical variable, Research, which is already encoded as a 0 for no participation in research and 1 for participation in research. The predicted variable of interest is the ninth variable, Chance of Admittance, I am hoping to use a subset of the first eight variables in order to reliably fit a model which is able to explain the variability in the ninth variable well. \n",
    "\n",
    "It doesn't make sense to include the first variable, Serial No., in the basic model because it is random for each student and doesn't effectively convey any meaning."
   ]
  },
  {
   "cell_type": "code",
   "execution_count": null,
   "metadata": {},
   "outputs": [],
   "source": []
  }
 ],
 "metadata": {
  "kernelspec": {
   "display_name": "SAS",
   "language": "sas",
   "name": "sas"
  },
  "language_info": {
   "codemirror_mode": "sas",
   "file_extension": ".sas",
   "mimetype": "text/x-sas",
   "name": "sas"
  }
 },
 "nbformat": 4,
 "nbformat_minor": 2
}
