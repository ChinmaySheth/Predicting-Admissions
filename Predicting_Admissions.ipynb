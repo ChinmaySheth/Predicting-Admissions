{
 "cells": [
  {
   "cell_type": "code",
   "execution_count": 193,
   "metadata": {},
   "outputs": [],
   "source": [
    "from sklearn.model_selection import train_test_split\n",
    "from sklearn.metrics import mean_absolute_error\n",
    "from numpy.linalg import inv\n",
    "import numpy as np\n",
    "import pandas as pd\n",
    "import matplotlib.pyplot as plt\n",
    "import seaborn as sns\n",
    "allData = pd.read_csv('Admission_Predict.csv')"
   ]
  },
  {
   "cell_type": "code",
   "execution_count": 196,
   "metadata": {},
   "outputs": [],
   "source": [
    "#Renaming some columns so they're easier to reference later\n",
    "allData.columns = ['SN', 'GRE', 'TOEFL', 'UR', 'SOP', 'LOR', 'CGPA', 'R', 'COA']\n",
    "\n",
    "#We don't need serial number\n",
    "allData = allData.drop(['SN'],axis=1)"
   ]
  },
  {
   "cell_type": "code",
   "execution_count": 197,
   "metadata": {},
   "outputs": [],
   "source": [
    "#Splitting the data into a training and testing datasets\n",
    "y = allData['COA']\n",
    "X = allData.drop(['COA'], axis=1)\n",
    "XTr, XTe, yTr, yTe = train_test_split(X,y, test_size = 0.33)"
   ]
  },
  {
   "cell_type": "code",
   "execution_count": 198,
   "metadata": {},
   "outputs": [],
   "source": [
    "#Linear regression function\n",
    "class MyLinearRegression():\n",
    "    \n",
    "    def fit(self, X, Y):\n",
    "        self.X_ = X\n",
    "        self.Y_ = Y\n",
    "        XT = np.transpose(self.X_)\n",
    "        XTX = np.dot(XT, self.X_)\n",
    "        XTY = np.dot(XT, self.Y_)\n",
    "        self.beta = np.dot(inv(XTX),XTY)\n",
    "        return self\n",
    "    \n",
    "    def predict(self, X):\n",
    "        prediction = np.dot(X, self.beta)\n",
    "        return prediction"
   ]
  },
  {
   "cell_type": "code",
   "execution_count": 199,
   "metadata": {},
   "outputs": [],
   "source": [
    "#Compute the predicted values of the \n",
    "LR = MyLinearRegression()\n",
    "LR_Fit = LR.fit(XTr, yTr)\n",
    "predicted_chance = LR_Fit.predict(XTe)\n",
    "    "
   ]
  },
  {
   "cell_type": "code",
   "execution_count": 200,
   "metadata": {},
   "outputs": [],
   "source": [
    "#Need to round GPA to the nearest second decimal place.\n",
    "predicted_chance = np.around(predicted_chance, decimals = 2)"
   ]
  },
  {
   "cell_type": "code",
   "execution_count": 201,
   "metadata": {},
   "outputs": [
    {
     "name": "stdout",
     "output_type": "stream",
     "text": [
      "The mean absolute error is,  0.0531060606060606\n"
     ]
    }
   ],
   "source": [
    "print(\"The mean absolute error is, \",mean_absolute_error(yTe, predicted_chance))"
   ]
  },
  {
   "cell_type": "code",
   "execution_count": 202,
   "metadata": {},
   "outputs": [
    {
     "data": {
      "text/plain": [
       "<matplotlib.axes._subplots.AxesSubplot at 0x1a24915ba8>"
      ]
     },
     "execution_count": 202,
     "metadata": {},
     "output_type": "execute_result"
    },
    {
     "data": {
      "image/png": "[encoded data removed]",
      "text/plain": [
       "<Figure size 432x288 with 1 Axes>"
      ]
     },
     "metadata": {
      "needs_background": "light"
     },
     "output_type": "display_data"
    }
   ],
   "source": [
    "#Scatter plot which maps the predicted and actual values. We should see positive linear trend.\n",
    "sns.scatterplot(x = yTe, y = predicted_chance)"
   ]
  },
  {
   "cell_type": "code",
   "execution_count": null,
   "metadata": {},
   "outputs": [],
   "source": []
  }
 ],
 "metadata": {
  "kernelspec": {
   "display_name": "Python 3",
   "language": "python",
   "name": "python3"
  },
  "language_info": {
   "codemirror_mode": {
    "name": "ipython",
    "version": 3
   },
   "file_extension": ".py",
   "mimetype": "text/x-python",
   "name": "python",
   "nbconvert_exporter": "python",
   "pygments_lexer": "ipython3",
   "version": "3.7.1"
  }
 },
 "nbformat": 4,
 "nbformat_minor": 2
}
