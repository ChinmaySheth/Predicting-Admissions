{
 "cells": [
  {
   "cell_type": "code",
   "execution_count": 31,
   "metadata": {
    "collapsed": true
   },
   "outputs": [],
   "source": [
    "import pandas as pd #for data wrangling\n",
    "import numpy as np #for numeric computation\n",
    "import sklearn.model_selection as sk\n",
    "import scipy"
   ]
  },
  {
   "cell_type": "code",
   "execution_count": 6,
   "metadata": {
    "collapsed": false
   },
   "outputs": [],
   "source": [
    "df = pd.read_csv('Dataset/Admission_Predict.csv')"
   ]
  },
  {
   "cell_type": "code",
   "execution_count": 11,
   "metadata": {
    "collapsed": false
   },
   "outputs": [],
   "source": [
    "train, test = sk.train_test_split(df, test_size=0.33)"
   ]
  },
  {
   "cell_type": "code",
   "execution_count": 32,
   "metadata": {
    "collapsed": false
   },
   "outputs": [
    {
     "ename": "AttributeError",
     "evalue": "module 'scipy' has no attribute 'boxcox'",
     "output_type": "error",
     "traceback": [
      "\u001b[0;31m---------------------------------------------------------------------------\u001b[0m",
      "\u001b[0;31mAttributeError\u001b[0m                            Traceback (most recent call last)",
      "\u001b[0;32m<ipython-input-32-d72332d1fb22>\u001b[0m in \u001b[0;36m<module>\u001b[0;34m()\u001b[0m\n\u001b[0;32m----> 1\u001b[0;31m \u001b[0mtrain_data\u001b[0m \u001b[0;34m=\u001b[0m \u001b[0mscipy\u001b[0m\u001b[0;34m.\u001b[0m\u001b[0mboxcox\u001b[0m\u001b[0;34m(\u001b[0m\u001b[0mtrain\u001b[0m\u001b[0;34m)\u001b[0m\u001b[0;34m\u001b[0m\u001b[0m\n\u001b[0m",
      "\u001b[0;31mAttributeError\u001b[0m: module 'scipy' has no attribute 'boxcox'"
     ]
    }
   ],
   "source": [
    "train_data = scipy.boxcox(train)"
   ]
  },
  {
   "cell_type": "code",
   "execution_count": 26,
   "metadata": {
    "collapsed": false
   },
   "outputs": [
    {
     "name": "stdout",
     "output_type": "stream",
     "text": [
      "     Serial No.  GRE Score  TOEFL Score  University Rating  SOP  LOR   CGPA  \\\n",
      "358         359        314          105                  2  2.5   2.0  7.64   \n",
      "163         164        317          105                  3  3.5   3.0  8.56   \n",
      "304         305        313          106                  2  2.5   2.0  8.43   \n",
      "288         289        314          104                  4  5.0   5.0  9.02   \n",
      "91           92        299           97                  3  5.0   3.5  7.66   \n",
      "..          ...        ...          ...                ...  ...   ...   ...   \n",
      "167         168        313          102                  3  2.0   3.0  8.27   \n",
      "147         148        326          114                  3  3.0   3.0  9.11   \n",
      "122         123        310          106                  4  1.5   2.5  8.36   \n",
      "351         352        325          110                  4  3.5   4.0  8.67   \n",
      "277         278        320          101                  2  2.5   3.0  8.62   \n",
      "\n",
      "     Research  Chance of Admit   \n",
      "358         0              0.70  \n",
      "163         0              0.68  \n",
      "304         0              0.62  \n",
      "288         0              0.82  \n",
      "91          0              0.38  \n",
      "..        ...               ...  \n",
      "167         0              0.64  \n",
      "147         1              0.83  \n",
      "122         0              0.57  \n",
      "351         1              0.73  \n",
      "277         0              0.70  \n",
      "\n",
      "[132 rows x 9 columns]\n"
     ]
    }
   ],
   "source": []
  },
  {
   "cell_type": "code",
   "execution_count": 22,
   "metadata": {
    "collapsed": false
   },
   "outputs": [
    {
     "name": "stdout",
     "output_type": "stream",
     "text": [
      "     GRE Score  TOEFL Score  University Rating  SOP  LOR   CGPA  Research  \\\n",
      "292        302           99                  2  1.0   2.0  7.97         0   \n",
      "24         336          119                  5  4.0   3.5  9.80         1   \n",
      "338        323          108                  5  4.0   4.0  8.74         1   \n",
      "150        334          114                  4  4.0   4.0  9.43         1   \n",
      "275        322          110                  3  3.5   3.0  8.96         1   \n",
      "..         ...          ...                ...  ...   ...   ...       ...   \n",
      "326        299          100                  3  2.0   2.0  8.02         0   \n",
      "108        331          116                  5  5.0   5.0  9.38         1   \n",
      "185        327          113                  4  4.5   4.5  9.11         1   \n",
      "22         328          116                  5  5.0   5.0  9.50         1   \n",
      "233        304          100                  2  2.5   3.5  8.07         0   \n",
      "\n",
      "     Chance of Admit   \n",
      "292              0.56  \n",
      "24               0.97  \n",
      "338              0.81  \n",
      "150              0.93  \n",
      "275              0.78  \n",
      "..                ...  \n",
      "326              0.63  \n",
      "108              0.93  \n",
      "185              0.89  \n",
      "22               0.94  \n",
      "233              0.64  \n",
      "\n",
      "[268 rows x 8 columns]\n",
      "292    0.56\n",
      "24     0.97\n",
      "338    0.81\n",
      "150    0.93\n",
      "275    0.78\n",
      "       ... \n",
      "326    0.63\n",
      "108    0.93\n",
      "185    0.89\n",
      "22     0.94\n",
      "233    0.64\n",
      "Name: Chance of Admit , Length: 268, dtype: float64\n"
     ]
    }
   ],
   "source": []
  },
  {
   "cell_type": "code",
   "execution_count": null,
   "metadata": {
    "collapsed": true
   },
   "outputs": [],
   "source": []
  }
 ],
 "metadata": {
  "kernelspec": {
   "display_name": "Python 3",
   "language": "python",
   "name": "python3"
  },
  "language_info": {
   "codemirror_mode": {
    "name": "ipython",
    "version": 3
   },
   "file_extension": ".py",
   "mimetype": "text/x-python",
   "name": "python",
   "nbconvert_exporter": "python",
   "pygments_lexer": "ipython3",
   "version": "3.6.4"
  }
 },
 "nbformat": 4,
 "nbformat_minor": 2
}
